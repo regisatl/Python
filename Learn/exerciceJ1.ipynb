{
 "cells": [
  {
   "cell_type": "markdown",
   "metadata": {},
   "source": [
    "# Exercices d'application Jour-1"
   ]
  },
  {
   "cell_type": "markdown",
   "metadata": {},
   "source": [
    "## Exercice 1 (Boucle while)\n",
    "Écrivez un programme qui affiche les 20 premiers termes de la table de multiplication par 7, en signalant au passage (à l'aide d'une astérisque) ceux qui sont des multiples de 3.\n",
    "\n",
    "Exemple : 7 14 21 * 28 35 42 * 49 56 63 * 70 77 84 * 91 98 105 * 112 119 126 * 133 140\n",
    "\n",
    "\n",
    "## Exercice 2 (Boucle while)\n",
    "Écrivez un programme qui affiche une suite de 12 nombres dont chaque terme est égal au triple du terme précédent.\n",
    "\n",
    "Exemple : 2 6 18 54 162 486 .....\n",
    "\n",
    "\n",
    "## Exercice 3\n",
    "Calculez la somme d'une suite de nombres positifs ou nuls. Comptez combien il y avait de données et combien étaient supérieures à 100.\n",
    "\n",
    "Entrer un nombre inférieur ou égal à 0 indique la fin de la suite.\n",
    "\n",
    "\n",
    "## Exercice 4\n",
    "Une légende de l'Inde ancienne raconte que le jeu d'échecs a été inventé par un vieux sage, que son roi voulut remercier en lui affirmant qu'il lui accorderait n'importe quel cadeau en récompense. Le vieux sage demanda qu'on lui fournisse simplement un peu de riz pour ses vieux jours et plus précisément un nombre de grains de riz suffisant pour que l'on puisse en déposer 1 seul sur la première case du jeu qu'il venait d'inventer, deux sur la suivante, quatre sur la troisième et ainsi de suite jusqu'à la 64e case. Écrivez un programme Python qui affiche le nombre de grains à déposer sur chacune des 64 cases du jeu. Calculez ce nombre de deux manières :\n",
    "\n",
    "\n",
    "    - le nombre exact de grains (nombre entier)\n",
    "\n",
    "    - le nombre de grains en notation scientifique (nombre réel)\n",
    "\n",
    "\n",
    "## Exercice 5\n",
    "L'utilisateur donne un entier supérieur à 1 et le programme affiche, s'il y en a, tous ses diviseurs propres sans répétition ainsi que leur nombre. S'il n'y en a pas, il indique qu'il est premier. \n",
    "Par exemple :\n",
    "Entrez un entier strictement positif : 12\n",
    "Diviseurs propres sans répétition de 12 : 2 3 4 6 (soit 4 diviseurs propres)\n",
    "Entrez un entier strictement positif : 13\n",
    "Diviseurs propres sans répétition de 13 : aucun ! Il est premier\n",
    "\n",
    "\n",
    "## Exercice 6: Tapisserie\n",
    "Écrire une fonction qui, recevant une taille n en paramètre, affiche un tapis de n+1 lignes/n+1 colonnes traversé par une diagonale.\n",
    "\n",
    "Exemple (pour une taille de 10) :\n",
    "Résultat attendu:\n",
    "\n",
    "![Texte alternatif](\\code_result.png \"Sortie attendue du code \")\n",
    "\n",
    "\n",
    "## Exercice 7: Opérations mathématiques\n",
    "Écrire une fonction nombre_chiffres prenant en paramètre deux entiers positifs nombre et chiffre, ce dernier étant compris entre 0 et 9.\n",
    "La fonction doit renvoyer le nombre de fois où apparait le chiffre dans la composition du nombre.\n",
    "\n",
    "\n",
    "## Exercice 8: Opérations mathématiques\n",
    "Écrivez un programme qui, à partir de la saisie d'un rayon et d'une hauteur, calcule le volume d'un cône droit.\n",
    "\n",
    "\n",
    "## Exercice 9: \n",
    "Un palindrome est un mot qui peut se lire dans les deux sens, comme “Bob” par exemple.\n",
    "\n",
    "Écrivez une fonction qui vérifie si le mot est un palindrome ou pas, en renvoyant True ou False."
   ]
  },
  {
   "cell_type": "markdown",
   "metadata": {},
   "source": []
  }
 ],
 "metadata": {
  "kernelspec": {
   "display_name": "Python 3",
   "language": "python",
   "name": "python3"
  },
  "language_info": {
   "name": "python",
   "version": "3.11.5"
  }
 },
 "nbformat": 4,
 "nbformat_minor": 2
}
